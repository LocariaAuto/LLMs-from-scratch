{
 "cells": [
  {
   "cell_type": "code",
   "execution_count": 1,
   "id": "17bf544d",
   "metadata": {},
   "outputs": [],
   "source": [
    "import torch\n",
    "import torch.nn as nn"
   ]
  },
  {
   "cell_type": "code",
   "execution_count": null,
   "id": "54329944",
   "metadata": {},
   "outputs": [],
   "source": [
    "## we can see that the input creates in each layer a defined number of outputs\n",
    "## and that the output of one layer is the input of the next layer\n",
    "## the bias is an additional parameter that is added to the output of the layer\n",
    "## the activation functions are used to introduce non-linearity to the model\n",
    "## ReLU is a commonly used activation function that sets all negative values to zero\n",
    "## Softmax is used in the output layer to convert logits to probabilities\n",
    "\n",
    "model = nn.Sequential(\n",
    "    ## sequential is a container for layers\n",
    "    \n",
    "    nn.Linear(in_features=3, out_features=2, bias=True),\n",
    "    ## linear layer with 3 inputs and 2 outputs\n",
    "    nn.ReLU(),\n",
    "    ## ReLU activation function: rectified linear unit\n",
    "\n",
    "    nn.Linear(in_features=2, out_features=4, bias=True),\n",
    "    nn.ReLU(),\n",
    "\n",
    "    nn.Linear(in_features=4, out_features=2, bias=True),\n",
    "    nn.Softmax(dim=1)\n",
    "    ## softmax activation function: converts logits to probabilities\n",
    ")"
   ]
  },
  {
   "cell_type": "code",
   "execution_count": 4,
   "id": "67570604",
   "metadata": {},
   "outputs": [
    {
     "data": {
      "text/plain": [
       "Sequential(\n",
       "  (0): Linear(in_features=3, out_features=2, bias=True)\n",
       "  (1): ReLU()\n",
       "  (2): Linear(in_features=2, out_features=4, bias=True)\n",
       "  (3): ReLU()\n",
       "  (4): Linear(in_features=4, out_features=2, bias=True)\n",
       "  (5): Softmax(dim=1)\n",
       ")"
      ]
     },
     "execution_count": 4,
     "metadata": {},
     "output_type": "execute_result"
    }
   ],
   "source": [
    "model"
   ]
  },
  {
   "cell_type": "code",
   "execution_count": 6,
   "id": "2914134e",
   "metadata": {},
   "outputs": [
    {
     "data": {
      "text/plain": [
       "tensor([[ 0.1930,  1.8500, -1.6389],\n",
       "        [ 0.5727,  0.2204, -0.0729]])"
      ]
     },
     "execution_count": 6,
     "metadata": {},
     "output_type": "execute_result"
    }
   ],
   "source": [
    "sample_input = torch.randn(2, 3)\n",
    "## create a sample input with 2 samples and 3 features\n",
    "sample_input"
   ]
  },
  {
   "cell_type": "code",
   "execution_count": 7,
   "id": "c604a2b0",
   "metadata": {},
   "outputs": [
    {
     "data": {
      "text/plain": [
       "tensor([[0.4221, 0.5779],\n",
       "        [0.4229, 0.5771]], grad_fn=<SoftmaxBackward0>)"
      ]
     },
     "execution_count": 7,
     "metadata": {},
     "output_type": "execute_result"
    }
   ],
   "source": [
    "output = model(sample_input)\n",
    "output"
   ]
  }
 ],
 "metadata": {
  "kernelspec": {
   "display_name": "llms_scratch",
   "language": "python",
   "name": "python3"
  },
  "language_info": {
   "codemirror_mode": {
    "name": "ipython",
    "version": 3
   },
   "file_extension": ".py",
   "mimetype": "text/x-python",
   "name": "python",
   "nbconvert_exporter": "python",
   "pygments_lexer": "ipython3",
   "version": "3.10.18"
  }
 },
 "nbformat": 4,
 "nbformat_minor": 5
}
